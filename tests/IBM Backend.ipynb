{
 "cells": [
  {
   "cell_type": "code",
   "execution_count": null,
   "metadata": {},
   "outputs": [],
   "source": [
    "from pytket import Circuit\n",
    "from pytket.extensions.qiskit import IBMQBackend\n",
    "\n",
    "backend = IBMQBackend(\"ibm_brisbane\")\n",
    "\n",
    "circ = backend.get_compiled_circuit(circ)\n",
    "handle = backend.process_circuit(circ, n_shots=1000)\n",
    "\n",
    "# assert backend.persistent_handles\n",
    "print(str(handle))\n",
    "counts = backend.get_result(handle).get_counts()\n",
    "print(counts)\n",
    "('5e8f3dcbbb7d8500119cfbf6', 0)\n",
    "{(0, 1, 1): 1000}\n",
    "from pytket.backends import ResultHandle\n",
    "from pytket.extensions.qiskit import IBMQBackend\n",
    "\n",
    "backend = IBMQBackend(\"ibm_brisbane\")\n",
    "\n",
    "handle = ResultHandle.from_str(\"('5e8f3dcbbb7d8500119cfbf6', 0)\")\n",
    "counts = backend.get_result(handle).get_counts()\n",
    "print(counts)"
   ]
  }
 ],
 "metadata": {
  "kernelspec": {
   "display_name": "env",
   "language": "python",
   "name": "python3"
  },
  "language_info": {
   "name": "python",
   "version": "3.10.12"
  }
 },
 "nbformat": 4,
 "nbformat_minor": 2
}
