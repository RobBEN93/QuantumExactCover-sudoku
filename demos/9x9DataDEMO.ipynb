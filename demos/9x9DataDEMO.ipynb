{
 "cells": [
  {
   "cell_type": "code",
   "execution_count": 1,
   "metadata": {},
   "outputs": [],
   "source": [
    "from python_package.data_generation import GenData, QuantumDataAnalysis"
   ]
  },
  {
   "cell_type": "code",
   "execution_count": 2,
   "metadata": {},
   "outputs": [
    {
     "name": "stderr",
     "output_type": "stream",
     "text": [
      "Generating puzzles with 1 missing cells:   0%|          | 0/100000 [00:00<?, ?it/s]"
     ]
    },
    {
     "name": "stderr",
     "output_type": "stream",
     "text": [
      "Generating puzzles with 1 missing cells: 100%|██████████| 100000/100000 [05:03<00:00, 329.76it/s]\n",
      "Generating puzzles with 2 missing cells: 100%|██████████| 100000/100000 [05:20<00:00, 311.62it/s]\n",
      "Generating puzzles with 3 missing cells: 100%|██████████| 100000/100000 [05:41<00:00, 292.83it/s]\n",
      "Generating puzzles with 4 missing cells: 100%|██████████| 100000/100000 [05:55<00:00, 281.07it/s]\n",
      "Generating puzzles with 5 missing cells: 100%|██████████| 100000/100000 [06:12<00:00, 268.13it/s]\n",
      "Generating puzzles with 6 missing cells:  53%|█████▎    | 53160/100000 [03:28<03:03, 254.63it/s]\n"
     ]
    },
    {
     "ename": "KeyboardInterrupt",
     "evalue": "",
     "output_type": "error",
     "traceback": [
      "\u001b[0;31m---------------------------------------------------------------------------\u001b[0m",
      "\u001b[0;31mKeyboardInterrupt\u001b[0m                         Traceback (most recent call last)",
      "Cell \u001b[0;32mIn[2], line 3\u001b[0m\n\u001b[1;32m      1\u001b[0m \u001b[38;5;66;03m# Example use of QuantumDataAnalysis class\u001b[39;00m\n\u001b[1;32m      2\u001b[0m gen_data \u001b[38;5;241m=\u001b[39m GenData(grid_size\u001b[38;5;241m=\u001b[39m\u001b[38;5;241m3\u001b[39m, num_puzzles\u001b[38;5;241m=\u001b[39m\u001b[38;5;241m100000\u001b[39m)\n\u001b[0;32m----> 3\u001b[0m data_df \u001b[38;5;241m=\u001b[39m \u001b[43mgen_data\u001b[49m\u001b[38;5;241;43m.\u001b[39;49m\u001b[43mgenerate_data\u001b[49m\u001b[43m(\u001b[49m\u001b[43mnum_cells_range\u001b[49m\u001b[43m \u001b[49m\u001b[38;5;241;43m=\u001b[39;49m\u001b[43m \u001b[49m\u001b[43m(\u001b[49m\u001b[38;5;241;43m1\u001b[39;49m\u001b[43m,\u001b[49m\u001b[38;5;241;43m25\u001b[39;49m\u001b[43m)\u001b[49m\u001b[43m)\u001b[49m\n",
      "File \u001b[0;32m~/VSCodeProjects/QSudoku/QuantumExactCover-sudoku/src/python_package/data_generation.py:106\u001b[0m, in \u001b[0;36mGenData.generate_data\u001b[0;34m(self, num_empty_cells, num_cells_range)\u001b[0m\n\u001b[1;32m    104\u001b[0m     \u001b[38;5;28;01mfor\u001b[39;00m i \u001b[38;5;129;01min\u001b[39;00m \u001b[38;5;28mrange\u001b[39m(num_cells_range[\u001b[38;5;241m0\u001b[39m], num_cells_range[\u001b[38;5;241m1\u001b[39m] \u001b[38;5;241m+\u001b[39m \u001b[38;5;241m1\u001b[39m):\n\u001b[1;32m    105\u001b[0m         \u001b[38;5;28;01mfor\u001b[39;00m _ \u001b[38;5;129;01min\u001b[39;00m tqdm(\u001b[38;5;28mrange\u001b[39m(\u001b[38;5;28mself\u001b[39m\u001b[38;5;241m.\u001b[39mnum_puzzles), desc\u001b[38;5;241m=\u001b[39m\u001b[38;5;124mf\u001b[39m\u001b[38;5;124m\"\u001b[39m\u001b[38;5;124mGenerating puzzles with \u001b[39m\u001b[38;5;132;01m{\u001b[39;00mi\u001b[38;5;132;01m}\u001b[39;00m\u001b[38;5;124m missing cells\u001b[39m\u001b[38;5;124m\"\u001b[39m):\n\u001b[0;32m--> 106\u001b[0m             sudoku \u001b[38;5;241m=\u001b[39m \u001b[43mSudoku\u001b[49m\u001b[43m(\u001b[49m\u001b[43mgrid_size\u001b[49m\u001b[38;5;241;43m=\u001b[39;49m\u001b[38;5;28;43mself\u001b[39;49m\u001b[38;5;241;43m.\u001b[39;49m\u001b[43msize\u001b[49m\u001b[43m,\u001b[49m\u001b[43m \u001b[49m\u001b[43mnum_missing_cells\u001b[49m\u001b[38;5;241;43m=\u001b[39;49m\u001b[43mi\u001b[49m\u001b[43m)\u001b[49m\n\u001b[1;32m    107\u001b[0m             \u001b[38;5;28mself\u001b[39m\u001b[38;5;241m.\u001b[39m_append_quantum_resources(sudoku)\n\u001b[1;32m    108\u001b[0m \u001b[38;5;28;01melse\u001b[39;00m:\n\u001b[1;32m    109\u001b[0m     \u001b[38;5;66;03m# Generate data for a specific number of missing cells\u001b[39;00m\n",
      "File \u001b[0;32m~/VSCodeProjects/QSudoku/QuantumExactCover-sudoku/src/python_package/sudoku.py:27\u001b[0m, in \u001b[0;36mSudoku.__init__\u001b[0;34m(self, grid_size, sudopy, num_missing_cells, pysudo, difficulty, seed, file_path)\u001b[0m\n\u001b[1;32m     25\u001b[0m puzzle \u001b[38;5;241m=\u001b[39m sudokupy(board_size\u001b[38;5;241m=\u001b[39m\u001b[38;5;28mself\u001b[39m\u001b[38;5;241m.\u001b[39mboard_size)\n\u001b[1;32m     26\u001b[0m cells_to_remove \u001b[38;5;241m=\u001b[39m \u001b[38;5;28mself\u001b[39m\u001b[38;5;241m.\u001b[39mnum_missing_cells\n\u001b[0;32m---> 27\u001b[0m \u001b[43mpuzzle\u001b[49m\u001b[38;5;241;43m.\u001b[39;49m\u001b[43mgenerate\u001b[49m\u001b[43m(\u001b[49m\u001b[43mcells_to_remove\u001b[49m\u001b[38;5;241;43m=\u001b[39;49m\u001b[43mcells_to_remove\u001b[49m\u001b[43m)\u001b[49m\n\u001b[1;32m     28\u001b[0m puzzle\u001b[38;5;241m.\u001b[39mboard_exchange_values({\u001b[38;5;124m'\u001b[39m\u001b[38;5;124ma\u001b[39m\u001b[38;5;124m'\u001b[39m: \u001b[38;5;241m1\u001b[39m, \u001b[38;5;124m'\u001b[39m\u001b[38;5;124mb\u001b[39m\u001b[38;5;124m'\u001b[39m: \u001b[38;5;241m2\u001b[39m, \u001b[38;5;124m'\u001b[39m\u001b[38;5;124mc\u001b[39m\u001b[38;5;124m'\u001b[39m: \u001b[38;5;241m3\u001b[39m, \u001b[38;5;124m'\u001b[39m\u001b[38;5;124md\u001b[39m\u001b[38;5;124m'\u001b[39m: \u001b[38;5;241m4\u001b[39m, \u001b[38;5;124m'\u001b[39m\u001b[38;5;124me\u001b[39m\u001b[38;5;124m'\u001b[39m: \u001b[38;5;241m5\u001b[39m, \u001b[38;5;124m'\u001b[39m\u001b[38;5;124mf\u001b[39m\u001b[38;5;124m'\u001b[39m: \u001b[38;5;241m6\u001b[39m, \u001b[38;5;124m'\u001b[39m\u001b[38;5;124mg\u001b[39m\u001b[38;5;124m'\u001b[39m: \u001b[38;5;241m7\u001b[39m, \u001b[38;5;124m'\u001b[39m\u001b[38;5;124mh\u001b[39m\u001b[38;5;124m'\u001b[39m: \u001b[38;5;241m8\u001b[39m, \u001b[38;5;124m'\u001b[39m\u001b[38;5;124mi\u001b[39m\u001b[38;5;124m'\u001b[39m: \u001b[38;5;241m9\u001b[39m})\n\u001b[1;32m     29\u001b[0m \u001b[38;5;28mself\u001b[39m\u001b[38;5;241m.\u001b[39mpuzzle \u001b[38;5;241m=\u001b[39m puzzle\n",
      "File \u001b[0;32m~/VSCodeProjects/QSudoku/QuantumExactCover-sudoku/venv/lib/python3.10/site-packages/sudoku_py/sudoku.py:218\u001b[0m, in \u001b[0;36mSudokuGenerator.generate\u001b[0;34m(self, cells_to_remove, random_removal, symmetry_removal)\u001b[0m\n\u001b[1;32m    217\u001b[0m \u001b[38;5;28;01mdef\u001b[39;00m \u001b[38;5;21mgenerate\u001b[39m(\u001b[38;5;28mself\u001b[39m, cells_to_remove, random_removal\u001b[38;5;241m=\u001b[39m\u001b[38;5;28;01mTrue\u001b[39;00m, symmetry_removal\u001b[38;5;241m=\u001b[39m\u001b[38;5;28;01mFalse\u001b[39;00m):\n\u001b[0;32m--> 218\u001b[0m     \u001b[38;5;28;43mself\u001b[39;49m\u001b[38;5;241;43m.\u001b[39;49m\u001b[43m__create_full_grid\u001b[49m\u001b[43m(\u001b[49m\u001b[43m)\u001b[49m\n\u001b[1;32m    219\u001b[0m     grid_coords \u001b[38;5;241m=\u001b[39m \u001b[38;5;28mself\u001b[39m\u001b[38;5;241m.\u001b[39m__get_cell_order(random_removal)\n\u001b[1;32m    220\u001b[0m     \u001b[38;5;28;01mfor\u001b[39;00m x, y \u001b[38;5;129;01min\u001b[39;00m grid_coords:\n",
      "File \u001b[0;32m~/VSCodeProjects/QSudoku/QuantumExactCover-sudoku/venv/lib/python3.10/site-packages/sudoku_py/sudoku.py:199\u001b[0m, in \u001b[0;36mSudokuGenerator.__create_full_grid\u001b[0;34m(self)\u001b[0m\n\u001b[1;32m    197\u001b[0m \u001b[38;5;28;01mif\u001b[39;00m \u001b[38;5;28mself\u001b[39m\u001b[38;5;241m.\u001b[39m_possible(x, y, value):\n\u001b[1;32m    198\u001b[0m     \u001b[38;5;28mself\u001b[39m\u001b[38;5;241m.\u001b[39mboard[y][x] \u001b[38;5;241m=\u001b[39m value\n\u001b[0;32m--> 199\u001b[0m     \u001b[38;5;28;43mself\u001b[39;49m\u001b[38;5;241;43m.\u001b[39;49m\u001b[43m__create_full_grid\u001b[49m\u001b[43m(\u001b[49m\u001b[43m)\u001b[49m\n\u001b[1;32m    200\u001b[0m     \u001b[38;5;28;01mif\u001b[39;00m \u001b[38;5;28mself\u001b[39m\u001b[38;5;241m.\u001b[39m__board_created:\n\u001b[1;32m    201\u001b[0m         \u001b[38;5;28;01mreturn\u001b[39;00m\n",
      "File \u001b[0;32m~/VSCodeProjects/QSudoku/QuantumExactCover-sudoku/venv/lib/python3.10/site-packages/sudoku_py/sudoku.py:199\u001b[0m, in \u001b[0;36mSudokuGenerator.__create_full_grid\u001b[0;34m(self)\u001b[0m\n\u001b[1;32m    197\u001b[0m \u001b[38;5;28;01mif\u001b[39;00m \u001b[38;5;28mself\u001b[39m\u001b[38;5;241m.\u001b[39m_possible(x, y, value):\n\u001b[1;32m    198\u001b[0m     \u001b[38;5;28mself\u001b[39m\u001b[38;5;241m.\u001b[39mboard[y][x] \u001b[38;5;241m=\u001b[39m value\n\u001b[0;32m--> 199\u001b[0m     \u001b[38;5;28;43mself\u001b[39;49m\u001b[38;5;241;43m.\u001b[39;49m\u001b[43m__create_full_grid\u001b[49m\u001b[43m(\u001b[49m\u001b[43m)\u001b[49m\n\u001b[1;32m    200\u001b[0m     \u001b[38;5;28;01mif\u001b[39;00m \u001b[38;5;28mself\u001b[39m\u001b[38;5;241m.\u001b[39m__board_created:\n\u001b[1;32m    201\u001b[0m         \u001b[38;5;28;01mreturn\u001b[39;00m\n",
      "    \u001b[0;31m[... skipping similar frames: SudokuGenerator.__create_full_grid at line 199 (73 times)]\u001b[0m\n",
      "File \u001b[0;32m~/VSCodeProjects/QSudoku/QuantumExactCover-sudoku/venv/lib/python3.10/site-packages/sudoku_py/sudoku.py:199\u001b[0m, in \u001b[0;36mSudokuGenerator.__create_full_grid\u001b[0;34m(self)\u001b[0m\n\u001b[1;32m    197\u001b[0m \u001b[38;5;28;01mif\u001b[39;00m \u001b[38;5;28mself\u001b[39m\u001b[38;5;241m.\u001b[39m_possible(x, y, value):\n\u001b[1;32m    198\u001b[0m     \u001b[38;5;28mself\u001b[39m\u001b[38;5;241m.\u001b[39mboard[y][x] \u001b[38;5;241m=\u001b[39m value\n\u001b[0;32m--> 199\u001b[0m     \u001b[38;5;28;43mself\u001b[39;49m\u001b[38;5;241;43m.\u001b[39;49m\u001b[43m__create_full_grid\u001b[49m\u001b[43m(\u001b[49m\u001b[43m)\u001b[49m\n\u001b[1;32m    200\u001b[0m     \u001b[38;5;28;01mif\u001b[39;00m \u001b[38;5;28mself\u001b[39m\u001b[38;5;241m.\u001b[39m__board_created:\n\u001b[1;32m    201\u001b[0m         \u001b[38;5;28;01mreturn\u001b[39;00m\n",
      "File \u001b[0;32m~/VSCodeProjects/QSudoku/QuantumExactCover-sudoku/venv/lib/python3.10/site-packages/sudoku_py/sudoku.py:190\u001b[0m, in \u001b[0;36mSudokuGenerator.__create_full_grid\u001b[0;34m(self)\u001b[0m\n\u001b[1;32m    188\u001b[0m \u001b[38;5;28;01mdef\u001b[39;00m \u001b[38;5;21m__create_full_grid\u001b[39m(\u001b[38;5;28mself\u001b[39m):\n\u001b[1;32m    189\u001b[0m     \u001b[38;5;28;01mfor\u001b[39;00m y \u001b[38;5;129;01min\u001b[39;00m \u001b[38;5;28mrange\u001b[39m(\u001b[38;5;28mself\u001b[39m\u001b[38;5;241m.\u001b[39mboard_size):\n\u001b[0;32m--> 190\u001b[0m         \u001b[38;5;28;01mfor\u001b[39;00m x \u001b[38;5;129;01min\u001b[39;00m \u001b[38;5;28;43mrange\u001b[39;49m\u001b[43m(\u001b[49m\u001b[38;5;28;43mself\u001b[39;49m\u001b[38;5;241;43m.\u001b[39;49m\u001b[43mboard_size\u001b[49m\u001b[43m)\u001b[49m:\n\u001b[1;32m    191\u001b[0m             \u001b[38;5;28;01mif\u001b[39;00m \u001b[38;5;28mself\u001b[39m\u001b[38;5;241m.\u001b[39mboard[y][x] \u001b[38;5;241m==\u001b[39m \u001b[38;5;241m0\u001b[39m:\n\u001b[1;32m    192\u001b[0m                 cell_options \u001b[38;5;241m=\u001b[39m copy\u001b[38;5;241m.\u001b[39mdeepcopy(\u001b[38;5;28mself\u001b[39m\u001b[38;5;241m.\u001b[39mboard_tokens)\n",
      "\u001b[0;31mKeyboardInterrupt\u001b[0m: "
     ]
    }
   ],
   "source": [
    "# Example use of QuantumDataAnalysis class\n",
    "gen_data = GenData(grid_size=3, num_puzzles=100000)\n",
    "data_df = gen_data.generate_data(num_cells_range = (1,25))"
   ]
  },
  {
   "cell_type": "code",
   "execution_count": null,
   "metadata": {},
   "outputs": [],
   "source": [
    "analysis = QuantumDataAnalysis(df=data_df)"
   ]
  },
  {
   "cell_type": "code",
   "execution_count": 3,
   "metadata": {},
   "outputs": [
    {
     "name": "stdout",
     "output_type": "stream",
     "text": [
      "       missing_cells  num_qubits_simple_encoding  total_gates_simple_encoding  \\\n",
      "count   2.500000e+06                2.500000e+06                 2.500000e+06   \n",
      "mean    1.300000e+01                2.592197e+02                 1.233934e+08   \n",
      "std     7.211104e+00                1.850524e+02                 1.805354e+09   \n",
      "min     1.000000e+00                2.000000e+00                 1.000000e+00   \n",
      "25%     7.000000e+00                9.200000e+01                 2.648000e+03   \n",
      "50%     1.300000e+01                2.230000e+02                 8.570000e+04   \n",
      "75%     1.900000e+01                4.060000e+02                 5.373936e+06   \n",
      "max     2.500000e+01                6.580000e+02                 1.170266e+12   \n",
      "\n",
      "       mcx_gates_simple_encoding  num_qubits_pattern_encoding  \\\n",
      "count               2.500000e+06                 2.500000e+06   \n",
      "mean                1.299547e+08                 1.847426e+02   \n",
      "std                 1.907106e+09                 1.251085e+02   \n",
      "min                 9.000000e+00                 2.000000e+00   \n",
      "25%                 2.889000e+03                 7.900000e+01   \n",
      "50%                 9.141600e+04                 1.650000e+02   \n",
      "75%                 5.685914e+06                 2.960000e+02   \n",
      "max                 1.238543e+12                 6.360000e+02   \n",
      "\n",
      "       total_gates_pattern_encoding  mcx_gates_pattern_encoding  \n",
      "count                  2.500000e+06                2.500000e+06  \n",
      "mean                   1.862676e+04                1.914515e+04  \n",
      "std                    1.301920e+06                1.320549e+06  \n",
      "min                    1.000000e+00                9.000000e+00  \n",
      "25%                    1.324000e+03                1.415000e+03  \n",
      "50%                    5.700000e+03                5.961000e+03  \n",
      "75%                    1.946500e+04                2.010500e+04  \n",
      "max                    1.416969e+09                1.437496e+09  \n"
     ]
    },
    {
     "ename": "",
     "evalue": "",
     "output_type": "error",
     "traceback": [
      "\u001b[1;31mThe Kernel crashed while executing code in the current cell or a previous cell. \n",
      "\u001b[1;31mPlease review the code in the cell(s) to identify a possible cause of the failure. \n",
      "\u001b[1;31mClick <a href='https://aka.ms/vscodeJupyterKernelCrash'>here</a> for more info. \n",
      "\u001b[1;31mView Jupyter <a href='command:jupyter.viewOutput'>log</a> for further details."
     ]
    }
   ],
   "source": [
    "# Get descriptive statistics\n",
    "stats = analysis.get_statistics()\n",
    "print(stats)"
   ]
  },
  {
   "cell_type": "code",
   "execution_count": null,
   "metadata": {},
   "outputs": [],
   "source": [
    "# Plot distributions\n",
    "analysis.plot_distributions_pdf()"
   ]
  }
 ],
 "metadata": {
  "kernelspec": {
   "display_name": "venv",
   "language": "python",
   "name": "python3"
  },
  "language_info": {
   "codemirror_mode": {
    "name": "ipython",
    "version": 3
   },
   "file_extension": ".py",
   "mimetype": "text/x-python",
   "name": "python",
   "nbconvert_exporter": "python",
   "pygments_lexer": "ipython3",
   "version": "3.10.12"
  }
 },
 "nbformat": 4,
 "nbformat_minor": 2
}
