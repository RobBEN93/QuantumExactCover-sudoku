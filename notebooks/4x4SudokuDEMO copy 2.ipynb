{
 "cells": [
  {
   "cell_type": "code",
   "execution_count": 3,
   "metadata": {},
   "outputs": [],
   "source": [
    "from sudoku_nisq.sudoku import Sudoku"
   ]
  },
  {
   "cell_type": "markdown",
   "metadata": {},
   "source": [
    "Generate and plot a random 4x4 puzzle with 4 missing cells:"
   ]
  },
  {
   "cell_type": "code",
   "execution_count": 4,
   "metadata": {},
   "outputs": [
    {
     "data": {
      "image/png": "[encoded data removed]",
      "text/plain": [
       "<Figure size 600x600 with 1 Axes>"
      ]
     },
     "execution_count": 4,
     "metadata": {},
     "output_type": "execute_result"
    }
   ],
   "source": [
    "sudoku = Sudoku(grid_size=2,num_missing_cells=4)\n",
    "\n",
    "sudoku.plot()"
   ]
  },
  {
   "cell_type": "markdown",
   "metadata": {},
   "source": [
    "Initialize the quantum solver using a simple encoding for this puzzle:"
   ]
  },
  {
   "cell_type": "code",
   "execution_count": 5,
   "metadata": {},
   "outputs": [],
   "source": [
    "sudoku._init_quantum(simple=True,pattern=False)"
   ]
  },
  {
   "cell_type": "markdown",
   "metadata": {},
   "source": [
    "Estimate rough resources for solving this puzzle on a quantum device:"
   ]
  },
  {
   "cell_type": "code",
   "execution_count": 6,
   "metadata": {},
   "outputs": [
    {
     "data": {
      "text/plain": [
       "(37, 375, 432)"
      ]
     },
     "execution_count": 6,
     "metadata": {},
     "output_type": "execute_result"
    }
   ],
   "source": [
    "sudoku.quantum.find_resources()\n",
    "\n",
    "# Number of qubits || Number of MCX gates || Total number of gates"
   ]
  },
  {
   "cell_type": "code",
   "execution_count": 104,
   "metadata": {},
   "outputs": [
    {
     "data": {
      "text/plain": [
       "{'S_0': [(1, 0), ('row', 1, 1), ('col', 0, 1), ('subgrid', 0, 0, 1)],\n",
       " 'S_1': [(1, 0), ('row', 1, 3), ('col', 0, 3), ('subgrid', 0, 0, 3)],\n",
       " 'S_2': [(1, 1), ('row', 1, 1), ('col', 1, 1), ('subgrid', 0, 0, 1)],\n",
       " 'S_3': [(1, 1), ('row', 1, 3), ('col', 1, 3), ('subgrid', 0, 0, 3)],\n",
       " 'S_4': [(2, 0), ('row', 2, 1), ('col', 0, 1), ('subgrid', 2, 0, 1)],\n",
       " 'S_5': [(3, 1), ('row', 3, 3), ('col', 1, 3), ('subgrid', 2, 0, 3)]}"
      ]
     },
     "execution_count": 104,
     "metadata": {},
     "output_type": "execute_result"
    }
   ],
   "source": [
    "sudoku.quantum.subsets"
   ]
  },
  {
   "cell_type": "code",
   "execution_count": 105,
   "metadata": {},
   "outputs": [
    {
     "data": {
      "text/plain": [
       "[(1, 0),\n",
       " (1, 1),\n",
       " (2, 0),\n",
       " (3, 1),\n",
       " ('row', 2, 1),\n",
       " ('row', 3, 3),\n",
       " ('row', 1, 1),\n",
       " ('row', 1, 3),\n",
       " ('col', 0, 1),\n",
       " ('col', 1, 1),\n",
       " ('col', 0, 3),\n",
       " ('col', 1, 3),\n",
       " ('subgrid', 0, 0, 3),\n",
       " ('subgrid', 2, 0, 1),\n",
       " ('subgrid', 2, 0, 3),\n",
       " ('subgrid', 0, 0, 1)]"
      ]
     },
     "execution_count": 105,
     "metadata": {},
     "output_type": "execute_result"
    }
   ],
   "source": [
    "sudoku.quantum.universe"
   ]
  },
  {
   "cell_type": "markdown",
   "metadata": {},
   "source": [
    "With pattern encoding we lower the resources, but up to an upper bound of the size of the problem:"
   ]
  },
  {
   "cell_type": "code",
   "execution_count": 7,
   "metadata": {},
   "outputs": [],
   "source": [
    "sudoku._init_quantum(simple=False,pattern=True)"
   ]
  },
  {
   "cell_type": "code",
   "execution_count": 8,
   "metadata": {},
   "outputs": [
    {
     "data": {
      "text/plain": [
       "(19, 63, 76)"
      ]
     },
     "execution_count": 8,
     "metadata": {},
     "output_type": "execute_result"
    }
   ],
   "source": [
    "sudoku.quantum.find_resources()\n",
    "\n",
    "# Number of qubits || Number of MCX gates || Total number of gates"
   ]
  },
  {
   "cell_type": "code",
   "execution_count": 9,
   "metadata": {},
   "outputs": [
    {
     "data": {
      "text/plain": [
       "[H S[0]; H S[1]; X anc; CnX S[0], U_14[0]; H anc; CnX S[0], U_11[0]; CnX S[0], U_4[0]; CnX S[0], U_1[0], U_10[0], U_11[0], U_12[0], U_13[0], U_14[0], U_15[0]; CnX S[0], U_1[0], U_10[0], U_11[0], U_12[0], U_13[0], U_14[0]; CnX S[0], U_1[0], U_10[0], U_11[0], U_12[0], U_13[0]; CnX S[0], U_1[0], U_10[0], U_11[0], U_12[0]; CnX S[0], U_1[0], U_10[0], U_11[0]; CnX S[1], U_12[0]; CnX S[0], U_1[0], U_10[0]; CnX S[1], U_8[0]; CnX S[0], U_1[0]; CnX S[1], U_5[0]; CnX S[0], U_13[0]; CnX S[1], U_2[0]; CnX S[0], U_9[0]; CnX S[0], U_6[0]; CnX S[0], U_3[0]; CnX S[0], U_15[0]; CnX S[0], U_10[0]; CnX S[0], U_7[0]; CnX S[0], U_0[0]; CnX U_0[0], U_1[0], U_2[0], U_3[0], U_4[0], U_5[0], U_6[0], U_7[0], U_8[0], U_9[0], U_10[0], U_11[0], U_12[0], U_13[0], U_14[0], U_15[0], anc; CnX S[0], U_0[0]; CnX S[1], U_2[0]; CnX S[0], U_7[0]; CnX S[1], U_5[0]; CnX S[0], U_10[0]; CnX S[1], U_8[0]; CnX S[0], U_15[0]; CnX S[1], U_12[0]; CnX S[0], U_3[0]; H S[1]; CnX S[0], U_6[0]; X S[1]; CnX S[0], U_9[0]; CnX S[0], U_13[0]; CnX S[0], U_1[0]; CnX S[0], U_1[0], U_10[0]; CnX S[0], U_1[0], U_10[0], U_11[0]; CnX S[0], U_1[0], U_10[0], U_11[0], U_12[0]; CnX S[0], U_1[0], U_10[0], U_11[0], U_12[0], U_13[0]; CnX S[0], U_1[0], U_10[0], U_11[0], U_12[0], U_13[0], U_14[0]; CnX S[0], U_1[0], U_10[0], U_11[0], U_12[0], U_13[0], U_14[0], U_15[0]; CnX S[0], U_4[0]; CnX S[0], U_11[0]; CnX S[0], U_14[0]; H S[0]; X S[0]; CnZ S[0], S[1]; X S[0]; X S[1]; H S[0]; H S[1]; Measure S[0] --> c[0]; Measure S[1] --> c[1]; ]"
      ]
     },
     "execution_count": 9,
     "metadata": {},
     "output_type": "execute_result"
    }
   ],
   "source": [
    "sudoku.quantum.get_circuit()"
   ]
  },
  {
   "cell_type": "code",
   "execution_count": 28,
   "metadata": {},
   "outputs": [
    {
     "data": {
      "text/html": [
       "\n",
       "\n",
       "\n",
       "\n",
       "\n",
       "\n",
       "<div style=\"resize: vertical; overflow: auto; height: None; display: block\">\n",
       "    <iframe srcdoc=\"\n",
       "&lt;!DOCTYPE html&gt;\n",
       "&lt;html lang=&#34;en&#34;&gt;\n",
       "&lt;head&gt;\n",
       "    &lt;meta charset=&#34;UTF-8&#34;&gt;\n",
       "    &lt;!-- Download Vue 3--&gt;\n",
       "&lt;script type=&#34;application/javascript&#34; src=&#34;https://cdn.jsdelivr.net/npm/vue@3&#34;&gt;&lt;/script&gt;\n",
       "&lt;!-- Download Circuit Renderer with styles --&gt;\n",
       "&lt;script type=&#34;application/javascript&#34; src=&#34;https://unpkg.com/pytket-circuit-renderer@0.10/dist/pytket-circuit-renderer.umd.js&#34;&gt;&lt;/script&gt;\n",
       "&lt;link rel=&#34;stylesheet&#34; href=&#34;https://unpkg.com/pytket-circuit-renderer@0.10/dist/pytket-circuit-renderer.css&#34;&gt;\n",
       "&lt;/head&gt;\n",
       "&lt;body&gt;\n",
       "\n",
       "\n",
       "    &lt;div id=&#34;circuit-display-vue-container-d34145e2-b056-4186-8cf7-cf62489c2eb7&#34; class=&#34;pytket-circuit-display-container&#34;&gt;\n",
       "        &lt;div style=&#34;display: none&#34;&gt;\n",
       "            &lt;div id=&#34;circuit-json-to-display&#34;&gt;{&#34;bits&#34;: [[&#34;c&#34;, [0]], [&#34;c&#34;, [1]]], &#34;commands&#34;: [{&#34;args&#34;: [[&#34;q&#34;, [0]]], &#34;op&#34;: {&#34;type&#34;: &#34;H&#34;}}, {&#34;args&#34;: [[&#34;q&#34;, [1]]], &#34;op&#34;: {&#34;type&#34;: &#34;H&#34;}}, {&#34;args&#34;: [[&#34;q&#34;, [18]]], &#34;op&#34;: {&#34;type&#34;: &#34;X&#34;}}, {&#34;args&#34;: [[&#34;q&#34;, [0]], [&#34;q&#34;, [8]]], &#34;op&#34;: {&#34;n_qb&#34;: 2, &#34;type&#34;: &#34;CnX&#34;}}, {&#34;args&#34;: [[&#34;q&#34;, [18]]], &#34;op&#34;: {&#34;type&#34;: &#34;H&#34;}}, {&#34;args&#34;: [[&#34;q&#34;, [0]], [&#34;q&#34;, [5]]], &#34;op&#34;: {&#34;n_qb&#34;: 2, &#34;type&#34;: &#34;CnX&#34;}}, {&#34;args&#34;: [[&#34;q&#34;, [0]], [&#34;q&#34;, [12]]], &#34;op&#34;: {&#34;n_qb&#34;: 2, &#34;type&#34;: &#34;CnX&#34;}}, {&#34;args&#34;: [[&#34;q&#34;, [0]], [&#34;q&#34;, [3]], [&#34;q&#34;, [4]], [&#34;q&#34;, [5]], [&#34;q&#34;, [6]], [&#34;q&#34;, [7]], [&#34;q&#34;, [8]], [&#34;q&#34;, [9]]], &#34;op&#34;: {&#34;n_qb&#34;: 8, &#34;type&#34;: &#34;CnX&#34;}}, {&#34;args&#34;: [[&#34;q&#34;, [0]], [&#34;q&#34;, [3]], [&#34;q&#34;, [4]], [&#34;q&#34;, [5]], [&#34;q&#34;, [6]], [&#34;q&#34;, [7]], [&#34;q&#34;, [8]]], &#34;op&#34;: {&#34;n_qb&#34;: 7, &#34;type&#34;: &#34;CnX&#34;}}, {&#34;args&#34;: [[&#34;q&#34;, [0]], [&#34;q&#34;, [3]], [&#34;q&#34;, [4]], [&#34;q&#34;, [5]], [&#34;q&#34;, [6]], [&#34;q&#34;, [7]]], &#34;op&#34;: {&#34;n_qb&#34;: 6, &#34;type&#34;: &#34;CnX&#34;}}, {&#34;args&#34;: [[&#34;q&#34;, [0]], [&#34;q&#34;, [3]], [&#34;q&#34;, [4]], [&#34;q&#34;, [5]], [&#34;q&#34;, [6]]], &#34;op&#34;: {&#34;n_qb&#34;: 5, &#34;type&#34;: &#34;CnX&#34;}}, {&#34;args&#34;: [[&#34;q&#34;, [0]], [&#34;q&#34;, [3]], [&#34;q&#34;, [4]], [&#34;q&#34;, [5]]], &#34;op&#34;: {&#34;n_qb&#34;: 4, &#34;type&#34;: &#34;CnX&#34;}}, {&#34;args&#34;: [[&#34;q&#34;, [1]], [&#34;q&#34;, [6]]], &#34;op&#34;: {&#34;n_qb&#34;: 2, &#34;type&#34;: &#34;CnX&#34;}}, {&#34;args&#34;: [[&#34;q&#34;, [0]], [&#34;q&#34;, [3]], [&#34;q&#34;, [4]]], &#34;op&#34;: {&#34;n_qb&#34;: 3, &#34;type&#34;: &#34;CnX&#34;}}, {&#34;args&#34;: [[&#34;q&#34;, [1]], [&#34;q&#34;, [16]]], &#34;op&#34;: {&#34;n_qb&#34;: 2, &#34;type&#34;: &#34;CnX&#34;}}, {&#34;args&#34;: [[&#34;q&#34;, [0]], [&#34;q&#34;, [3]]], &#34;op&#34;: {&#34;n_qb&#34;: 2, &#34;type&#34;: &#34;CnX&#34;}}, {&#34;args&#34;: [[&#34;q&#34;, [1]], [&#34;q&#34;, [13]]], &#34;op&#34;: {&#34;n_qb&#34;: 2, &#34;type&#34;: &#34;CnX&#34;}}, {&#34;args&#34;: [[&#34;q&#34;, [0]], [&#34;q&#34;, [7]]], &#34;op&#34;: {&#34;n_qb&#34;: 2, &#34;type&#34;: &#34;CnX&#34;}}, {&#34;args&#34;: [[&#34;q&#34;, [1]], [&#34;q&#34;, [10]]], &#34;op&#34;: {&#34;n_qb&#34;: 2, &#34;type&#34;: &#34;CnX&#34;}}, {&#34;args&#34;: [[&#34;q&#34;, [0]], [&#34;q&#34;, [17]]], &#34;op&#34;: {&#34;n_qb&#34;: 2, &#34;type&#34;: &#34;CnX&#34;}}, {&#34;args&#34;: [[&#34;q&#34;, [0]], [&#34;q&#34;, [14]]], &#34;op&#34;: {&#34;n_qb&#34;: 2, &#34;type&#34;: &#34;CnX&#34;}}, {&#34;args&#34;: [[&#34;q&#34;, [0]], [&#34;q&#34;, [11]]], &#34;op&#34;: {&#34;n_qb&#34;: 2, &#34;type&#34;: &#34;CnX&#34;}}, {&#34;args&#34;: [[&#34;q&#34;, [0]], [&#34;q&#34;, [9]]], &#34;op&#34;: {&#34;n_qb&#34;: 2, &#34;type&#34;: &#34;CnX&#34;}}, {&#34;args&#34;: [[&#34;q&#34;, [0]], [&#34;q&#34;, [4]]], &#34;op&#34;: {&#34;n_qb&#34;: 2, &#34;type&#34;: &#34;CnX&#34;}}, {&#34;args&#34;: [[&#34;q&#34;, [0]], [&#34;q&#34;, [15]]], &#34;op&#34;: {&#34;n_qb&#34;: 2, &#34;type&#34;: &#34;CnX&#34;}}, {&#34;args&#34;: [[&#34;q&#34;, [0]], [&#34;q&#34;, [2]]], &#34;op&#34;: {&#34;n_qb&#34;: 2, &#34;type&#34;: &#34;CnX&#34;}}, {&#34;args&#34;: [[&#34;q&#34;, [2]], [&#34;q&#34;, [3]], [&#34;q&#34;, [10]], [&#34;q&#34;, [11]], [&#34;q&#34;, [12]], [&#34;q&#34;, [13]], [&#34;q&#34;, [14]], [&#34;q&#34;, [15]], [&#34;q&#34;, [16]], [&#34;q&#34;, [17]], [&#34;q&#34;, [4]], [&#34;q&#34;, [5]], [&#34;q&#34;, [6]], [&#34;q&#34;, [7]], [&#34;q&#34;, [8]], [&#34;q&#34;, [9]], [&#34;q&#34;, [18]]], &#34;op&#34;: {&#34;n_qb&#34;: 17, &#34;type&#34;: &#34;CnX&#34;}}, {&#34;args&#34;: [[&#34;q&#34;, [0]], [&#34;q&#34;, [2]]], &#34;op&#34;: {&#34;n_qb&#34;: 2, &#34;type&#34;: &#34;CnX&#34;}}, {&#34;args&#34;: [[&#34;q&#34;, [1]], [&#34;q&#34;, [10]]], &#34;op&#34;: {&#34;n_qb&#34;: 2, &#34;type&#34;: &#34;CnX&#34;}}, {&#34;args&#34;: [[&#34;q&#34;, [0]], [&#34;q&#34;, [15]]], &#34;op&#34;: {&#34;n_qb&#34;: 2, &#34;type&#34;: &#34;CnX&#34;}}, {&#34;args&#34;: [[&#34;q&#34;, [1]], [&#34;q&#34;, [13]]], &#34;op&#34;: {&#34;n_qb&#34;: 2, &#34;type&#34;: &#34;CnX&#34;}}, {&#34;args&#34;: [[&#34;q&#34;, [0]], [&#34;q&#34;, [4]]], &#34;op&#34;: {&#34;n_qb&#34;: 2, &#34;type&#34;: &#34;CnX&#34;}}, {&#34;args&#34;: [[&#34;q&#34;, [1]], [&#34;q&#34;, [16]]], &#34;op&#34;: {&#34;n_qb&#34;: 2, &#34;type&#34;: &#34;CnX&#34;}}, {&#34;args&#34;: [[&#34;q&#34;, [0]], [&#34;q&#34;, [9]]], &#34;op&#34;: {&#34;n_qb&#34;: 2, &#34;type&#34;: &#34;CnX&#34;}}, {&#34;args&#34;: [[&#34;q&#34;, [1]], [&#34;q&#34;, [6]]], &#34;op&#34;: {&#34;n_qb&#34;: 2, &#34;type&#34;: &#34;CnX&#34;}}, {&#34;args&#34;: [[&#34;q&#34;, [0]], [&#34;q&#34;, [11]]], &#34;op&#34;: {&#34;n_qb&#34;: 2, &#34;type&#34;: &#34;CnX&#34;}}, {&#34;args&#34;: [[&#34;q&#34;, [1]]], &#34;op&#34;: {&#34;type&#34;: &#34;H&#34;}}, {&#34;args&#34;: [[&#34;q&#34;, [0]], [&#34;q&#34;, [14]]], &#34;op&#34;: {&#34;n_qb&#34;: 2, &#34;type&#34;: &#34;CnX&#34;}}, {&#34;args&#34;: [[&#34;q&#34;, [1]]], &#34;op&#34;: {&#34;type&#34;: &#34;X&#34;}}, {&#34;args&#34;: [[&#34;q&#34;, [0]], [&#34;q&#34;, [17]]], &#34;op&#34;: {&#34;n_qb&#34;: 2, &#34;type&#34;: &#34;CnX&#34;}}, {&#34;args&#34;: [[&#34;q&#34;, [0]], [&#34;q&#34;, [7]]], &#34;op&#34;: {&#34;n_qb&#34;: 2, &#34;type&#34;: &#34;CnX&#34;}}, {&#34;args&#34;: [[&#34;q&#34;, [0]], [&#34;q&#34;, [3]]], &#34;op&#34;: {&#34;n_qb&#34;: 2, &#34;type&#34;: &#34;CnX&#34;}}, {&#34;args&#34;: [[&#34;q&#34;, [0]], [&#34;q&#34;, [3]], [&#34;q&#34;, [4]]], &#34;op&#34;: {&#34;n_qb&#34;: 3, &#34;type&#34;: &#34;CnX&#34;}}, {&#34;args&#34;: [[&#34;q&#34;, [0]], [&#34;q&#34;, [3]], [&#34;q&#34;, [4]], [&#34;q&#34;, [5]]], &#34;op&#34;: {&#34;n_qb&#34;: 4, &#34;type&#34;: &#34;CnX&#34;}}, {&#34;args&#34;: [[&#34;q&#34;, [0]], [&#34;q&#34;, [3]], [&#34;q&#34;, [4]], [&#34;q&#34;, [5]], [&#34;q&#34;, [6]]], &#34;op&#34;: {&#34;n_qb&#34;: 5, &#34;type&#34;: &#34;CnX&#34;}}, {&#34;args&#34;: [[&#34;q&#34;, [0]], [&#34;q&#34;, [3]], [&#34;q&#34;, [4]], [&#34;q&#34;, [5]], [&#34;q&#34;, [6]], [&#34;q&#34;, [7]]], &#34;op&#34;: {&#34;n_qb&#34;: 6, &#34;type&#34;: &#34;CnX&#34;}}, {&#34;args&#34;: [[&#34;q&#34;, [0]], [&#34;q&#34;, [3]], [&#34;q&#34;, [4]], [&#34;q&#34;, [5]], [&#34;q&#34;, [6]], [&#34;q&#34;, [7]], [&#34;q&#34;, [8]]], &#34;op&#34;: {&#34;n_qb&#34;: 7, &#34;type&#34;: &#34;CnX&#34;}}, {&#34;args&#34;: [[&#34;q&#34;, [0]], [&#34;q&#34;, [3]], [&#34;q&#34;, [4]], [&#34;q&#34;, [5]], [&#34;q&#34;, [6]], [&#34;q&#34;, [7]], [&#34;q&#34;, [8]], [&#34;q&#34;, [9]]], &#34;op&#34;: {&#34;n_qb&#34;: 8, &#34;type&#34;: &#34;CnX&#34;}}, {&#34;args&#34;: [[&#34;q&#34;, [0]], [&#34;q&#34;, [12]]], &#34;op&#34;: {&#34;n_qb&#34;: 2, &#34;type&#34;: &#34;CnX&#34;}}, {&#34;args&#34;: [[&#34;q&#34;, [0]], [&#34;q&#34;, [5]]], &#34;op&#34;: {&#34;n_qb&#34;: 2, &#34;type&#34;: &#34;CnX&#34;}}, {&#34;args&#34;: [[&#34;q&#34;, [0]], [&#34;q&#34;, [8]]], &#34;op&#34;: {&#34;n_qb&#34;: 2, &#34;type&#34;: &#34;CnX&#34;}}, {&#34;args&#34;: [[&#34;q&#34;, [0]]], &#34;op&#34;: {&#34;type&#34;: &#34;H&#34;}}, {&#34;args&#34;: [[&#34;q&#34;, [0]]], &#34;op&#34;: {&#34;type&#34;: &#34;X&#34;}}, {&#34;args&#34;: [[&#34;q&#34;, [0]], [&#34;q&#34;, [1]]], &#34;op&#34;: {&#34;n_qb&#34;: 2, &#34;type&#34;: &#34;CnZ&#34;}}, {&#34;args&#34;: [[&#34;q&#34;, [0]]], &#34;op&#34;: {&#34;type&#34;: &#34;X&#34;}}, {&#34;args&#34;: [[&#34;q&#34;, [1]]], &#34;op&#34;: {&#34;type&#34;: &#34;X&#34;}}, {&#34;args&#34;: [[&#34;q&#34;, [0]]], &#34;op&#34;: {&#34;type&#34;: &#34;H&#34;}}, {&#34;args&#34;: [[&#34;q&#34;, [1]]], &#34;op&#34;: {&#34;type&#34;: &#34;H&#34;}}, {&#34;args&#34;: [[&#34;q&#34;, [0]], [&#34;c&#34;, [0]]], &#34;op&#34;: {&#34;type&#34;: &#34;Measure&#34;}}, {&#34;args&#34;: [[&#34;q&#34;, [1]], [&#34;c&#34;, [1]]], &#34;op&#34;: {&#34;type&#34;: &#34;Measure&#34;}}], &#34;created_qubits&#34;: [], &#34;discarded_qubits&#34;: [], &#34;implicit_permutation&#34;: [[[&#34;q&#34;, [0]], [&#34;q&#34;, [0]]], [[&#34;q&#34;, [1]], [&#34;q&#34;, [1]]], [[&#34;q&#34;, [2]], [&#34;q&#34;, [2]]], [[&#34;q&#34;, [3]], [&#34;q&#34;, [3]]], [[&#34;q&#34;, [4]], [&#34;q&#34;, [4]]], [[&#34;q&#34;, [5]], [&#34;q&#34;, [5]]], [[&#34;q&#34;, [6]], [&#34;q&#34;, [6]]], [[&#34;q&#34;, [7]], [&#34;q&#34;, [7]]], [[&#34;q&#34;, [8]], [&#34;q&#34;, [8]]], [[&#34;q&#34;, [9]], [&#34;q&#34;, [9]]], [[&#34;q&#34;, [10]], [&#34;q&#34;, [10]]], [[&#34;q&#34;, [11]], [&#34;q&#34;, [11]]], [[&#34;q&#34;, [12]], [&#34;q&#34;, [12]]], [[&#34;q&#34;, [13]], [&#34;q&#34;, [13]]], [[&#34;q&#34;, [14]], [&#34;q&#34;, [14]]], [[&#34;q&#34;, [15]], [&#34;q&#34;, [15]]], [[&#34;q&#34;, [16]], [&#34;q&#34;, [16]]], [[&#34;q&#34;, [17]], [&#34;q&#34;, [17]]], [[&#34;q&#34;, [18]], [&#34;q&#34;, [18]]]], &#34;phase&#34;: &#34;0.0&#34;, &#34;qubits&#34;: [[&#34;q&#34;, [0]], [&#34;q&#34;, [1]], [&#34;q&#34;, [2]], [&#34;q&#34;, [3]], [&#34;q&#34;, [4]], [&#34;q&#34;, [5]], [&#34;q&#34;, [6]], [&#34;q&#34;, [7]], [&#34;q&#34;, [8]], [&#34;q&#34;, [9]], [&#34;q&#34;, [10]], [&#34;q&#34;, [11]], [&#34;q&#34;, [12]], [&#34;q&#34;, [13]], [&#34;q&#34;, [14]], [&#34;q&#34;, [15]], [&#34;q&#34;, [16]], [&#34;q&#34;, [17]], [&#34;q&#34;, [18]]]}&lt;/div&gt;\n",
       "        &lt;/div&gt;\n",
       "        &lt;circuit-display-container\n",
       "                :circuit-element-str=&#34;&#39;#circuit-json-to-display&#39;&#34;\n",
       "                :init-render-options=&#34;initRenderOptions&#34;\n",
       "                view-format=&#34;None&#34;\n",
       "        &gt;&lt;/circuit-display-container&gt;\n",
       "    &lt;/div&gt;\n",
       "    &lt;script type=&#34;application/javascript&#34;&gt;\n",
       "      const circuitRendererUid = &#34;d34145e2-b056-4186-8cf7-cf62489c2eb7&#34;;\n",
       "      const displayOptions = JSON.parse(&#39;{}&#39;);\n",
       "\n",
       "      // Script to initialise the circuit renderer app\n",
       "\n",
       "const { createApp } = Vue;\n",
       "const circuitDisplayContainer = window[&#34;pytket-circuit-renderer&#34;].default;\n",
       "// Init variables to be shared between circuit display instances\n",
       "if (typeof window.pytketCircuitDisplays === &#34;undefined&#34;) {\n",
       "    window.pytketCircuitDisplays = {};\n",
       "}\n",
       "// Create the root Vue component\n",
       "const app = createApp({\n",
       "    delimiters: [&#39;[[#&#39;, &#39;#]]&#39;],\n",
       "    components: { circuitDisplayContainer },\n",
       "    data () {\n",
       "      return {\n",
       "        initRenderOptions: displayOptions,\n",
       "      }\n",
       "    }\n",
       "})\n",
       "app.config.unwrapInjectedRef = true;\n",
       "app.mount(&#34;#circuit-display-vue-container-&#34;+circuitRendererUid);\n",
       "window.pytketCircuitDisplays[circuitRendererUid] = app;\n",
       "    &lt;/script&gt;\n",
       "\n",
       "\n",
       "\n",
       "&lt;/body&gt;\n",
       "&lt;/html&gt;\n",
       "\"\n",
       "            width=\"100%\" height=\"100%\"\n",
       "            style=\"border: none; outline: none; overflow: auto\"></iframe>\n",
       "</div>\n",
       "\n"
      ],
      "text/plain": [
       "<IPython.core.display.HTML object>"
      ]
     },
     "metadata": {},
     "output_type": "display_data"
    }
   ],
   "source": [
    "sudoku.quantum.draw_circuit()"
   ]
  },
  {
   "cell_type": "code",
   "execution_count": null,
   "metadata": {},
   "outputs": [
    {
     "data": {
      "text/plain": [
       "{'S_0': [(1, 0),\n",
       "  ('row', 1, 1),\n",
       "  ('col', 0, 1),\n",
       "  ('subgrid', 0, 0, 1),\n",
       "  (3, 1),\n",
       "  ('row', 3, 1),\n",
       "  ('col', 1, 1),\n",
       "  ('subgrid', 2, 0, 1),\n",
       "  (0, 3),\n",
       "  ('row', 0, 1),\n",
       "  ('col', 3, 1),\n",
       "  ('subgrid', 0, 2, 1)],\n",
       " 'S_2': [(2, 3), ('row', 2, 3), ('col', 3, 3), ('subgrid', 2, 2, 3)]}"
      ]
     },
     "execution_count": 11,
     "metadata": {},
     "output_type": "execute_result"
    }
   ],
   "source": [
    "sudoku.quantum.subsets\n"
   ]
  },
  {
   "cell_type": "code",
   "execution_count": 12,
   "metadata": {},
   "outputs": [
    {
     "data": {
      "image/png": "[encoded data removed]",
      "text/plain": [
       "<Figure size 700x500 with 1 Axes>"
      ]
     },
     "metadata": {},
     "output_type": "display_data"
    }
   ],
   "source": [
    "sudoku.quantum.aer_simulation(shots=2000)\n",
    "sudoku.quantum.counts_plot()"
   ]
  },
  {
   "cell_type": "code",
   "execution_count": 13,
   "metadata": {},
   "outputs": [],
   "source": [
    "ibm_token = \"7a854fadb9bfc4d4d7202c44bb10598d64945d5b97deabecd8ddc9eaeb574b7e2ff86765f0c8079fb470a78d37aa2e872684355d720451a5fb41e82d1c1c2789\"\n",
    "\n",
    "from qiskit_ibm_runtime import QiskitRuntimeService\n",
    "from pytket.extensions.qiskit import IBMQBackend\n",
    "\n",
    "QiskitRuntimeService.save_account(channel=\"ibm_quantum\", token=ibm_token, overwrite=True)"
   ]
  },
  {
   "cell_type": "code",
   "execution_count": 14,
   "metadata": {},
   "outputs": [
    {
     "name": "stdout",
     "output_type": "stream",
     "text": [
      "['ibm_brisbane', 'ibm_kyiv', 'ibm_sherbrooke']\n"
     ]
    }
   ],
   "source": [
    "backendinfo_list = IBMQBackend.available_devices()\n",
    "print([backend.device_name for backend in backendinfo_list])"
   ]
  },
  {
   "cell_type": "code",
   "execution_count": 15,
   "metadata": {},
   "outputs": [],
   "source": [
    "backend = IBMQBackend(\"ibm_brisbane\")"
   ]
  },
  {
   "cell_type": "code",
   "execution_count": 16,
   "metadata": {},
   "outputs": [
    {
     "data": {
      "text/plain": [
       "False"
      ]
     },
     "execution_count": 16,
     "metadata": {},
     "output_type": "execute_result"
    }
   ],
   "source": [
    "from pytket.passes import FlattenRegisters\n",
    "\n",
    "flatten = FlattenRegisters()\n",
    "flatten.apply(sudoku.quantum.main_circuit)"
   ]
  },
  {
   "cell_type": "code",
   "execution_count": 17,
   "metadata": {},
   "outputs": [],
   "source": [
    "compiled_circuit_0 = backend.get_compiled_circuit(sudoku.quantum.main_circuit, optimisation_level=0)\n",
    "compiled_circuit_1 = backend.get_compiled_circuit(sudoku.quantum.main_circuit, optimisation_level=1)\n",
    "compiled_circuit_2 = backend.get_compiled_circuit(sudoku.quantum.main_circuit, optimisation_level=2)"
   ]
  },
  {
   "cell_type": "code",
   "execution_count": 18,
   "metadata": {},
   "outputs": [
    {
     "name": "stdout",
     "output_type": "stream",
     "text": [
      "24\n",
      "24\n",
      "24\n"
     ]
    }
   ],
   "source": [
    "print(compiled_circuit_0.n_qubits)\n",
    "print(compiled_circuit_1.n_qubits)\n",
    "print(compiled_circuit_2.n_qubits)"
   ]
  },
  {
   "cell_type": "code",
   "execution_count": 19,
   "metadata": {},
   "outputs": [
    {
     "name": "stdout",
     "output_type": "stream",
     "text": [
      "60051\n",
      "38839\n",
      "29343\n"
     ]
    }
   ],
   "source": [
    "print(compiled_circuit_0.n_gates)\n",
    "print(compiled_circuit_1.n_gates)\n",
    "print(compiled_circuit_2.n_gates)"
   ]
  },
  {
   "cell_type": "code",
   "execution_count": 22,
   "metadata": {},
   "outputs": [
    {
     "name": "stdout",
     "output_type": "stream",
     "text": [
      "27880\n",
      "15835\n",
      "12565\n"
     ]
    }
   ],
   "source": [
    "print(compiled_circuit_0.depth())\n",
    "print(compiled_circuit_1.depth())\n",
    "print(compiled_circuit_2.depth())"
   ]
  },
  {
   "cell_type": "code",
   "execution_count": 23,
   "metadata": {},
   "outputs": [],
   "source": [
    "handle = backend.process_circuit(compiled_circuit_2,n_shots = 1024)"
   ]
  },
  {
   "cell_type": "code",
   "execution_count": 26,
   "metadata": {},
   "outputs": [
    {
     "name": "stdout",
     "output_type": "stream",
     "text": [
      "Counter({(np.uint8(0), np.uint8(1)): 264, (np.uint8(0), np.uint8(0)): 256, (np.uint8(1), np.uint8(1)): 256, (np.uint8(1), np.uint8(0)): 248})\n"
     ]
    }
   ],
   "source": [
    "# assert backend.persistent_handles\n",
    "# print(str(handle))\n",
    "p_handle = ('cyyfpg2jj6dg008gqaag', 0, 2, 'null')\n",
    "counts = backend.get_result(p_handle).get_counts()\n",
    "print(counts)"
   ]
  },
  {
   "cell_type": "code",
   "execution_count": 27,
   "metadata": {},
   "outputs": [
    {
     "data": {
      "image/png": "[encoded data removed]",
      "text/plain": [
       "<Figure size 700x500 with 1 Axes>"
      ]
     },
     "metadata": {},
     "output_type": "display_data"
    }
   ],
   "source": [
    "sudoku.quantum.counts_plot(counts)"
   ]
  },
  {
   "cell_type": "code",
   "execution_count": 1,
   "metadata": {},
   "outputs": [
    {
     "ename": "NameError",
     "evalue": "name 'sudoku' is not defined",
     "output_type": "error",
     "traceback": [
      "\u001b[0;31m---------------------------------------------------------------------------\u001b[0m",
      "\u001b[0;31mNameError\u001b[0m                                 Traceback (most recent call last)",
      "Cell \u001b[0;32mIn[1], line 1\u001b[0m\n\u001b[0;32m----> 1\u001b[0m \u001b[43msudoku\u001b[49m\u001b[38;5;241m.\u001b[39mquantum\u001b[38;5;241m.\u001b[39msubsets\n",
      "\u001b[0;31mNameError\u001b[0m: name 'sudoku' is not defined"
     ]
    }
   ],
   "source": [
    "sudoku.quantum.subsets"
   ]
  }
 ],
 "metadata": {
  "kernelspec": {
   "display_name": "venv",
   "language": "python",
   "name": "python3"
  },
  "language_info": {
   "codemirror_mode": {
    "name": "ipython",
    "version": 3
   },
   "file_extension": ".py",
   "mimetype": "text/x-python",
   "name": "python",
   "nbconvert_exporter": "python",
   "pygments_lexer": "ipython3",
   "version": "3.10.12"
  }
 },
 "nbformat": 4,
 "nbformat_minor": 2
}
