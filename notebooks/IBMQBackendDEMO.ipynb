{
 "cells": [
  {
   "cell_type": "markdown",
   "metadata": {},
   "source": [
    "We import `IBMQBackend` and load our IBM token from a .env file"
   ]
  },
  {
   "cell_type": "code",
   "execution_count": 1,
   "metadata": {},
   "outputs": [],
   "source": [
    "from pytket.extensions.qiskit import IBMQBackend\n",
    "\n",
    "from dotenv import load_dotenv\n",
    "import os"
   ]
  },
  {
   "cell_type": "code",
   "execution_count": 2,
   "metadata": {},
   "outputs": [],
   "source": [
    "load_dotenv()\n",
    "ibm_token = os.getenv('IBM_QUANTUM_API_TOKEN')"
   ]
  },
  {
   "cell_type": "markdown",
   "metadata": {},
   "source": [
    "for logging into the runtime service"
   ]
  },
  {
   "cell_type": "code",
   "execution_count": 3,
   "metadata": {},
   "outputs": [],
   "source": [
    "from qiskit_ibm_runtime import QiskitRuntimeService\n",
    "\n",
    "QiskitRuntimeService.save_account(channel=\"ibm_quantum\", token=ibm_token, overwrite=True)"
   ]
  },
  {
   "cell_type": "markdown",
   "metadata": {},
   "source": [
    "Then we can check the QPUs (*Quantum Processing Units*) available to us and select one. In this case we'll select `ibm_brisbane`"
   ]
  },
  {
   "cell_type": "code",
   "execution_count": 4,
   "metadata": {},
   "outputs": [
    {
     "name": "stdout",
     "output_type": "stream",
     "text": [
      "['ibm_brisbane', 'ibm_kyiv', 'ibm_sherbrooke']\n"
     ]
    }
   ],
   "source": [
    "backendinfo_list = IBMQBackend.available_devices()\n",
    "print([backend.device_name for backend in backendinfo_list])"
   ]
  },
  {
   "cell_type": "code",
   "execution_count": 5,
   "metadata": {},
   "outputs": [],
   "source": [
    "backend = IBMQBackend(\"ibm_brisbane\")"
   ]
  },
  {
   "cell_type": "markdown",
   "metadata": {},
   "source": [
    "We then take a very small size puzzle"
   ]
  },
  {
   "cell_type": "code",
   "execution_count": null,
   "metadata": {},
   "outputs": [],
   "source": [
    "from sudoku_nisq.q_sudoku import Sudoku\n",
    "\n",
    "sudoku = Sudoku(grid_size=2,num_missing_cells=3)"
   ]
  },
  {
   "cell_type": "code",
   "execution_count": 7,
   "metadata": {},
   "outputs": [
    {
     "data": {
      "image/png": "[encoded data removed]",
      "text/plain": [
       "<Figure size 600x600 with 1 Axes>"
      ]
     },
     "execution_count": 7,
     "metadata": {},
     "output_type": "execute_result"
    }
   ],
   "source": [
    "sudoku.plot()"
   ]
  },
  {
   "cell_type": "markdown",
   "metadata": {},
   "source": [
    "We initialize the quantum solver object and find resources for the rough circuit:"
   ]
  },
  {
   "cell_type": "code",
   "execution_count": 8,
   "metadata": {},
   "outputs": [
    {
     "data": {
      "text/plain": [
       "(15, 47, 60)"
      ]
     },
     "execution_count": 8,
     "metadata": {},
     "output_type": "execute_result"
    }
   ],
   "source": [
    "sudoku.init_quantum(simple=False,pattern=True)\n",
    "\n",
    "sudoku.quantum.find_resources()\n",
    "\n",
    "# Number of qubits || Number of MCX gates || Total number of gates"
   ]
  },
  {
   "cell_type": "markdown",
   "metadata": {},
   "source": [
    "Then we initialize and draw the circuit "
   ]
  },
  {
   "cell_type": "code",
   "execution_count": 9,
   "metadata": {},
   "outputs": [],
   "source": [
    "circuit = sudoku.quantum.get_circuit()"
   ]
  },
  {
   "cell_type": "code",
   "execution_count": 10,
   "metadata": {},
   "outputs": [
    {
     "data": {
      "text/html": [
       "\n",
       "\n",
       "\n",
       "\n",
       "\n",
       "\n",
       "<div style=\"resize: vertical; overflow: auto; height: None; display: block\">\n",
       "    <iframe srcdoc=\"\n",
       "&lt;!DOCTYPE html&gt;\n",
       "&lt;html lang=&#34;en&#34;&gt;\n",
       "&lt;head&gt;\n",
       "    &lt;meta charset=&#34;UTF-8&#34;&gt;\n",
       "    &lt;!-- Download Vue 3--&gt;\n",
       "&lt;script type=&#34;application/javascript&#34; src=&#34;https://cdn.jsdelivr.net/npm/vue@3&#34;&gt;&lt;/script&gt;\n",
       "&lt;!-- Download Circuit Renderer with styles --&gt;\n",
       "&lt;script type=&#34;application/javascript&#34; src=&#34;https://unpkg.com/pytket-circuit-renderer@0.10/dist/pytket-circuit-renderer.umd.js&#34;&gt;&lt;/script&gt;\n",
       "&lt;link rel=&#34;stylesheet&#34; href=&#34;https://unpkg.com/pytket-circuit-renderer@0.10/dist/pytket-circuit-renderer.css&#34;&gt;\n",
       "&lt;/head&gt;\n",
       "&lt;body&gt;\n",
       "\n",
       "\n",
       "    &lt;div id=&#34;circuit-display-vue-container-5a317fa1-4c9a-4dd1-9e10-0100bb98d83b&#34; class=&#34;pytket-circuit-display-container&#34;&gt;\n",
       "        &lt;div style=&#34;display: none&#34;&gt;\n",
       "            &lt;div id=&#34;circuit-json-to-display&#34;&gt;{&#34;bits&#34;: [[&#34;c&#34;, [0]], [&#34;c&#34;, [1]]], &#34;commands&#34;: [{&#34;args&#34;: [[&#34;S&#34;, [0]]], &#34;op&#34;: {&#34;type&#34;: &#34;H&#34;}}, {&#34;args&#34;: [[&#34;S&#34;, [1]]], &#34;op&#34;: {&#34;type&#34;: &#34;H&#34;}}, {&#34;args&#34;: [[&#34;anc&#34;, []]], &#34;op&#34;: {&#34;type&#34;: &#34;X&#34;}}, {&#34;args&#34;: [[&#34;S&#34;, [0]], [&#34;U_9&#34;, [0]]], &#34;op&#34;: {&#34;n_qb&#34;: 2, &#34;type&#34;: &#34;CnX&#34;}}, {&#34;args&#34;: [[&#34;anc&#34;, []]], &#34;op&#34;: {&#34;type&#34;: &#34;H&#34;}}, {&#34;args&#34;: [[&#34;S&#34;, [0]], [&#34;U_7&#34;, [0]]], &#34;op&#34;: {&#34;n_qb&#34;: 2, &#34;type&#34;: &#34;CnX&#34;}}, {&#34;args&#34;: [[&#34;S&#34;, [0]], [&#34;U_3&#34;, [0]]], &#34;op&#34;: {&#34;n_qb&#34;: 2, &#34;type&#34;: &#34;CnX&#34;}}, {&#34;args&#34;: [[&#34;S&#34;, [0]], [&#34;U_0&#34;, [0]]], &#34;op&#34;: {&#34;n_qb&#34;: 2, &#34;type&#34;: &#34;CnX&#34;}}, {&#34;args&#34;: [[&#34;S&#34;, [0]], [&#34;U_10&#34;, [0]]], &#34;op&#34;: {&#34;n_qb&#34;: 2, &#34;type&#34;: &#34;CnX&#34;}}, {&#34;args&#34;: [[&#34;S&#34;, [0]], [&#34;U_8&#34;, [0]]], &#34;op&#34;: {&#34;n_qb&#34;: 2, &#34;type&#34;: &#34;CnX&#34;}}, {&#34;args&#34;: [[&#34;S&#34;, [0]], [&#34;U_5&#34;, [0]]], &#34;op&#34;: {&#34;n_qb&#34;: 2, &#34;type&#34;: &#34;CnX&#34;}}, {&#34;args&#34;: [[&#34;S&#34;, [0]], [&#34;U_1&#34;, [0]], [&#34;U_10&#34;, [0]], [&#34;U_11&#34;, [0]]], &#34;op&#34;: {&#34;n_qb&#34;: 4, &#34;type&#34;: &#34;CnX&#34;}}, {&#34;args&#34;: [[&#34;S&#34;, [0]], [&#34;U_1&#34;, [0]], [&#34;U_10&#34;, [0]]], &#34;op&#34;: {&#34;n_qb&#34;: 3, &#34;type&#34;: &#34;CnX&#34;}}, {&#34;args&#34;: [[&#34;S&#34;, [1]], [&#34;U_11&#34;, [0]]], &#34;op&#34;: {&#34;n_qb&#34;: 2, &#34;type&#34;: &#34;CnX&#34;}}, {&#34;args&#34;: [[&#34;S&#34;, [0]], [&#34;U_1&#34;, [0]]], &#34;op&#34;: {&#34;n_qb&#34;: 2, &#34;type&#34;: &#34;CnX&#34;}}, {&#34;args&#34;: [[&#34;S&#34;, [1]], [&#34;U_6&#34;, [0]]], &#34;op&#34;: {&#34;n_qb&#34;: 2, &#34;type&#34;: &#34;CnX&#34;}}, {&#34;args&#34;: [[&#34;S&#34;, [1]], [&#34;U_4&#34;, [0]]], &#34;op&#34;: {&#34;n_qb&#34;: 2, &#34;type&#34;: &#34;CnX&#34;}}, {&#34;args&#34;: [[&#34;S&#34;, [1]], [&#34;U_2&#34;, [0]]], &#34;op&#34;: {&#34;n_qb&#34;: 2, &#34;type&#34;: &#34;CnX&#34;}}, {&#34;args&#34;: [[&#34;U_0&#34;, [0]], [&#34;U_1&#34;, [0]], [&#34;U_2&#34;, [0]], [&#34;U_3&#34;, [0]], [&#34;U_4&#34;, [0]], [&#34;U_5&#34;, [0]], [&#34;U_6&#34;, [0]], [&#34;U_7&#34;, [0]], [&#34;U_8&#34;, [0]], [&#34;U_9&#34;, [0]], [&#34;U_10&#34;, [0]], [&#34;U_11&#34;, [0]], [&#34;anc&#34;, []]], &#34;op&#34;: {&#34;n_qb&#34;: 13, &#34;type&#34;: &#34;CnX&#34;}}, {&#34;args&#34;: [[&#34;S&#34;, [0]], [&#34;U_1&#34;, [0]]], &#34;op&#34;: {&#34;n_qb&#34;: 2, &#34;type&#34;: &#34;CnX&#34;}}, {&#34;args&#34;: [[&#34;S&#34;, [1]], [&#34;U_2&#34;, [0]]], &#34;op&#34;: {&#34;n_qb&#34;: 2, &#34;type&#34;: &#34;CnX&#34;}}, {&#34;args&#34;: [[&#34;S&#34;, [0]], [&#34;U_1&#34;, [0]], [&#34;U_10&#34;, [0]]], &#34;op&#34;: {&#34;n_qb&#34;: 3, &#34;type&#34;: &#34;CnX&#34;}}, {&#34;args&#34;: [[&#34;S&#34;, [1]], [&#34;U_4&#34;, [0]]], &#34;op&#34;: {&#34;n_qb&#34;: 2, &#34;type&#34;: &#34;CnX&#34;}}, {&#34;args&#34;: [[&#34;S&#34;, [1]], [&#34;U_6&#34;, [0]]], &#34;op&#34;: {&#34;n_qb&#34;: 2, &#34;type&#34;: &#34;CnX&#34;}}, {&#34;args&#34;: [[&#34;S&#34;, [1]], [&#34;U_11&#34;, [0]]], &#34;op&#34;: {&#34;n_qb&#34;: 2, &#34;type&#34;: &#34;CnX&#34;}}, {&#34;args&#34;: [[&#34;S&#34;, [0]], [&#34;U_1&#34;, [0]], [&#34;U_10&#34;, [0]], [&#34;U_11&#34;, [0]]], &#34;op&#34;: {&#34;n_qb&#34;: 4, &#34;type&#34;: &#34;CnX&#34;}}, {&#34;args&#34;: [[&#34;S&#34;, [1]]], &#34;op&#34;: {&#34;type&#34;: &#34;H&#34;}}, {&#34;args&#34;: [[&#34;S&#34;, [0]], [&#34;U_5&#34;, [0]]], &#34;op&#34;: {&#34;n_qb&#34;: 2, &#34;type&#34;: &#34;CnX&#34;}}, {&#34;args&#34;: [[&#34;S&#34;, [1]]], &#34;op&#34;: {&#34;type&#34;: &#34;X&#34;}}, {&#34;args&#34;: [[&#34;S&#34;, [0]], [&#34;U_8&#34;, [0]]], &#34;op&#34;: {&#34;n_qb&#34;: 2, &#34;type&#34;: &#34;CnX&#34;}}, {&#34;args&#34;: [[&#34;S&#34;, [0]], [&#34;U_10&#34;, [0]]], &#34;op&#34;: {&#34;n_qb&#34;: 2, &#34;type&#34;: &#34;CnX&#34;}}, {&#34;args&#34;: [[&#34;S&#34;, [0]], [&#34;U_0&#34;, [0]]], &#34;op&#34;: {&#34;n_qb&#34;: 2, &#34;type&#34;: &#34;CnX&#34;}}, {&#34;args&#34;: [[&#34;S&#34;, [0]], [&#34;U_3&#34;, [0]]], &#34;op&#34;: {&#34;n_qb&#34;: 2, &#34;type&#34;: &#34;CnX&#34;}}, {&#34;args&#34;: [[&#34;S&#34;, [0]], [&#34;U_7&#34;, [0]]], &#34;op&#34;: {&#34;n_qb&#34;: 2, &#34;type&#34;: &#34;CnX&#34;}}, {&#34;args&#34;: [[&#34;S&#34;, [0]], [&#34;U_9&#34;, [0]]], &#34;op&#34;: {&#34;n_qb&#34;: 2, &#34;type&#34;: &#34;CnX&#34;}}, {&#34;args&#34;: [[&#34;S&#34;, [0]]], &#34;op&#34;: {&#34;type&#34;: &#34;H&#34;}}, {&#34;args&#34;: [[&#34;S&#34;, [0]]], &#34;op&#34;: {&#34;type&#34;: &#34;X&#34;}}, {&#34;args&#34;: [[&#34;S&#34;, [0]], [&#34;S&#34;, [1]]], &#34;op&#34;: {&#34;n_qb&#34;: 2, &#34;type&#34;: &#34;CnZ&#34;}}, {&#34;args&#34;: [[&#34;S&#34;, [0]]], &#34;op&#34;: {&#34;type&#34;: &#34;X&#34;}}, {&#34;args&#34;: [[&#34;S&#34;, [1]]], &#34;op&#34;: {&#34;type&#34;: &#34;X&#34;}}, {&#34;args&#34;: [[&#34;S&#34;, [0]]], &#34;op&#34;: {&#34;type&#34;: &#34;H&#34;}}, {&#34;args&#34;: [[&#34;S&#34;, [1]]], &#34;op&#34;: {&#34;type&#34;: &#34;H&#34;}}, {&#34;args&#34;: [[&#34;S&#34;, [0]], [&#34;c&#34;, [0]]], &#34;op&#34;: {&#34;type&#34;: &#34;Measure&#34;}}, {&#34;args&#34;: [[&#34;S&#34;, [1]], [&#34;c&#34;, [1]]], &#34;op&#34;: {&#34;type&#34;: &#34;Measure&#34;}}], &#34;created_qubits&#34;: [], &#34;discarded_qubits&#34;: [], &#34;implicit_permutation&#34;: [[[&#34;S&#34;, [0]], [&#34;S&#34;, [0]]], [[&#34;S&#34;, [1]], [&#34;S&#34;, [1]]], [[&#34;U_0&#34;, [0]], [&#34;U_0&#34;, [0]]], [[&#34;U_1&#34;, [0]], [&#34;U_1&#34;, [0]]], [[&#34;U_10&#34;, [0]], [&#34;U_10&#34;, [0]]], [[&#34;U_11&#34;, [0]], [&#34;U_11&#34;, [0]]], [[&#34;U_2&#34;, [0]], [&#34;U_2&#34;, [0]]], [[&#34;U_3&#34;, [0]], [&#34;U_3&#34;, [0]]], [[&#34;U_4&#34;, [0]], [&#34;U_4&#34;, [0]]], [[&#34;U_5&#34;, [0]], [&#34;U_5&#34;, [0]]], [[&#34;U_6&#34;, [0]], [&#34;U_6&#34;, [0]]], [[&#34;U_7&#34;, [0]], [&#34;U_7&#34;, [0]]], [[&#34;U_8&#34;, [0]], [&#34;U_8&#34;, [0]]], [[&#34;U_9&#34;, [0]], [&#34;U_9&#34;, [0]]], [[&#34;anc&#34;, []], [&#34;anc&#34;, []]]], &#34;phase&#34;: &#34;0.0&#34;, &#34;qubits&#34;: [[&#34;S&#34;, [0]], [&#34;S&#34;, [1]], [&#34;U_0&#34;, [0]], [&#34;U_1&#34;, [0]], [&#34;U_10&#34;, [0]], [&#34;U_11&#34;, [0]], [&#34;U_2&#34;, [0]], [&#34;U_3&#34;, [0]], [&#34;U_4&#34;, [0]], [&#34;U_5&#34;, [0]], [&#34;U_6&#34;, [0]], [&#34;U_7&#34;, [0]], [&#34;U_8&#34;, [0]], [&#34;U_9&#34;, [0]], [&#34;anc&#34;, []]]}&lt;/div&gt;\n",
       "        &lt;/div&gt;\n",
       "        &lt;circuit-display-container\n",
       "                :circuit-element-str=&#34;&#39;#circuit-json-to-display&#39;&#34;\n",
       "                :init-render-options=&#34;initRenderOptions&#34;\n",
       "                view-format=&#34;None&#34;\n",
       "        &gt;&lt;/circuit-display-container&gt;\n",
       "    &lt;/div&gt;\n",
       "    &lt;script type=&#34;application/javascript&#34;&gt;\n",
       "      const circuitRendererUid = &#34;5a317fa1-4c9a-4dd1-9e10-0100bb98d83b&#34;;\n",
       "      const displayOptions = JSON.parse(&#39;{}&#39;);\n",
       "\n",
       "      // Script to initialise the circuit renderer app\n",
       "\n",
       "const { createApp } = Vue;\n",
       "const circuitDisplayContainer = window[&#34;pytket-circuit-renderer&#34;].default;\n",
       "// Init variables to be shared between circuit display instances\n",
       "if (typeof window.pytketCircuitDisplays === &#34;undefined&#34;) {\n",
       "    window.pytketCircuitDisplays = {};\n",
       "}\n",
       "// Create the root Vue component\n",
       "const app = createApp({\n",
       "    delimiters: [&#39;[[#&#39;, &#39;#]]&#39;],\n",
       "    components: { circuitDisplayContainer },\n",
       "    data () {\n",
       "      return {\n",
       "        initRenderOptions: displayOptions,\n",
       "      }\n",
       "    }\n",
       "})\n",
       "app.config.unwrapInjectedRef = true;\n",
       "app.mount(&#34;#circuit-display-vue-container-&#34;+circuitRendererUid);\n",
       "window.pytketCircuitDisplays[circuitRendererUid] = app;\n",
       "    &lt;/script&gt;\n",
       "\n",
       "\n",
       "\n",
       "&lt;/body&gt;\n",
       "&lt;/html&gt;\n",
       "\"\n",
       "            width=\"100%\" height=\"100%\"\n",
       "            style=\"border: none; outline: none; overflow: auto\"></iframe>\n",
       "</div>\n",
       "\n"
      ],
      "text/plain": [
       "<IPython.core.display.HTML object>"
      ]
     },
     "metadata": {},
     "output_type": "display_data"
    }
   ],
   "source": [
    "sudoku.quantum.draw_circuit()"
   ]
  },
  {
   "cell_type": "markdown",
   "metadata": {},
   "source": [
    "We then compile for the selected backend.\n",
    "\n",
    "(We use the `FlattenRegisters` function to fix the naming of our original circuit's registers and ensure compatibility with the backend's compiler)"
   ]
  },
  {
   "cell_type": "code",
   "execution_count": 11,
   "metadata": {},
   "outputs": [],
   "source": [
    "from pytket.passes import FlattenRegisters\n",
    "\n",
    "flatten = FlattenRegisters()\n",
    "flatten.apply(circuit)\n",
    "\n",
    "compiled_circuit = backend.get_compiled_circuit(circuit)"
   ]
  },
  {
   "cell_type": "markdown",
   "metadata": {},
   "source": [
    "Notice that the resources are much higher than the uncompiled circuit's estimate. This is partially due to the architecture of the QPU, as we are building a highly entangled state but not every qubit can readily connect to every other qubit so intermediate gates and auxiliary qubits are required:"
   ]
  },
  {
   "cell_type": "code",
   "execution_count": 12,
   "metadata": {},
   "outputs": [
    {
     "data": {
      "text/plain": [
       "17"
      ]
     },
     "execution_count": 12,
     "metadata": {},
     "output_type": "execute_result"
    }
   ],
   "source": [
    "compiled_circuit.n_qubits"
   ]
  },
  {
   "cell_type": "code",
   "execution_count": 14,
   "metadata": {},
   "outputs": [
    {
     "data": {
      "text/plain": [
       "4114"
      ]
     },
     "execution_count": 14,
     "metadata": {},
     "output_type": "execute_result"
    }
   ],
   "source": [
    "compiled_circuit.depth()"
   ]
  },
  {
   "cell_type": "code",
   "execution_count": 18,
   "metadata": {},
   "outputs": [
    {
     "data": {
      "text/plain": [
       "10414"
      ]
     },
     "execution_count": 18,
     "metadata": {},
     "output_type": "execute_result"
    }
   ],
   "source": [
    "compiled_circuit.n_gates"
   ]
  },
  {
   "cell_type": "markdown",
   "metadata": {},
   "source": [
    "We process the circuit and plot the results:"
   ]
  },
  {
   "cell_type": "code",
   "execution_count": 15,
   "metadata": {},
   "outputs": [],
   "source": [
    "handle = backend.process_circuit(compiled_circuit,n_shots = 1024)"
   ]
  },
  {
   "cell_type": "markdown",
   "metadata": {},
   "source": [
    "(one can keep the `str(handle)` for later retrieval of the data)"
   ]
  },
  {
   "cell_type": "code",
   "execution_count": 16,
   "metadata": {},
   "outputs": [
    {
     "name": "stdout",
     "output_type": "stream",
     "text": [
      "('cw1pwna79ws0008z3mk0', 0, 2, 'null')\n",
      "Job status is RUNNING\n",
      "Job status is RUNNING\n",
      "Job status is RUNNING\n",
      "Job status is RUNNING\n",
      "Job status is RUNNING\n",
      "Job status is RUNNING\n",
      "Job status is RUNNING\n",
      "Job status is RUNNING\n",
      "Job status is RUNNING\n",
      "Job status is RUNNING\n",
      "Job status is RUNNING\n",
      "Job status is RUNNING\n",
      "Job status is RUNNING\n",
      "Job status is RUNNING\n",
      "Job status is RUNNING\n",
      "Job status is RUNNING\n",
      "Job status is RUNNING\n",
      "Job status is RUNNING\n",
      "Job status is RUNNING\n",
      "Job status is RUNNING\n",
      "Job status is RUNNING\n",
      "Job status is RUNNING\n",
      "Job status is RUNNING\n",
      "Job status is RUNNING\n",
      "Job status is RUNNING\n",
      "Job status is RUNNING\n",
      "Job status is RUNNING\n",
      "Job status is RUNNING\n",
      "Job status is RUNNING\n",
      "Job status is RUNNING\n",
      "Job status is RUNNING\n",
      "Job status is RUNNING\n",
      "Job status is RUNNING\n",
      "Job status is RUNNING\n",
      "Job status is RUNNING\n",
      "Job status is RUNNING\n",
      "Job status is RUNNING\n",
      "Job status is RUNNING\n",
      "Job status is RUNNING\n",
      "Job status is RUNNING\n",
      "Job status is RUNNING\n",
      "Job status is RUNNING\n",
      "Job status is RUNNING\n",
      "Job status is RUNNING\n",
      "Job status is RUNNING\n",
      "Job status is RUNNING\n",
      "Job status is RUNNING\n",
      "Job status is RUNNING\n",
      "Job status is RUNNING\n",
      "Job status is RUNNING\n",
      "Job status is RUNNING\n",
      "Job status is RUNNING\n",
      "Job status is RUNNING\n",
      "Job status is RUNNING\n",
      "Job status is RUNNING\n",
      "Job status is RUNNING\n",
      "Job status is RUNNING\n",
      "Job status is RUNNING\n",
      "Job status is RUNNING\n",
      "Job status is RUNNING\n",
      "Job status is RUNNING\n",
      "Job status is RUNNING\n",
      "Job status is DONE\n",
      "Counter({(np.uint8(1), np.uint8(0)): 270, (np.uint8(0), np.uint8(0)): 256, (np.uint8(0), np.uint8(1)): 254, (np.uint8(1), np.uint8(1)): 244})\n"
     ]
    }
   ],
   "source": [
    "# assert backend.persistent_handles\n",
    "print(str(handle))\n",
    "counts = backend.get_result(handle).get_counts()\n",
    "print(counts)"
   ]
  },
  {
   "cell_type": "code",
   "execution_count": 17,
   "metadata": {},
   "outputs": [
    {
     "data": {
      "image/png": "[encoded data removed]",
      "text/plain": [
       "<Figure size 700x500 with 1 Axes>"
      ]
     },
     "metadata": {},
     "output_type": "display_data"
    }
   ],
   "source": [
    "sudoku.quantum.counts_plot(counts)"
   ]
  },
  {
   "cell_type": "markdown",
   "metadata": {},
   "source": [
    "Notice that the results show a fairly uniform distribution of all possible results. This case corresponds to a failure due to the high resource requirements and the relatively low power of the QPU.\n",
    "\n",
    "Let me elaborate:"
   ]
  },
  {
   "cell_type": "markdown",
   "metadata": {},
   "source": [
    "From IBM's [website about their QPUs](https://quantum.ibm.com/services/resources) we can find `ibm_brisbane`'s details, in particular, its coherence times and circuit layer operations per second (CLOPS):\n",
    "\n",
    "*Median T1 (Relaxation Time)*: $220.84 μs = 0.00022084 s$\n",
    "\n",
    "- This is the average time a qubit remains in an excited state before decaying to its ground state.\n",
    "\n",
    "*Median T2 (Dephasing Time)*: $134.91 μs = 0.00013491 s$\n",
    "\n",
    "- This is the average time over which a qubit can maintain its coherence, or superposition, before losing its phase information due to environmental noise and interactions.\n",
    "\n",
    "*CLOPS*: $30,000$\n",
    "\n",
    "- This means the processor can execute 30,000 circuit layers per second."
   ]
  },
  {
   "cell_type": "markdown",
   "metadata": {},
   "source": [
    "In our example we obtained a circuit depth of the compiled circuit of roughly $4000$, so a total execution time at $30,000$ CLOPS corresponds to\n",
    "\n",
    "$$\n",
    "\\text{Total Execution Time} = \\frac{\\text{Circuit Depth}}{\\text{CLOPS}} = \\frac{4,000}{30,000 \\text{layers}/\\text{s}} \\approx 0.13 \\text{s}\n",
    "$$\n",
    "\n",
    "Which is a few orders of magnitude greater than the coherence times. So our quantum state was no longer quantum way before the algorithm finished."
   ]
  }
 ],
 "metadata": {
  "kernelspec": {
   "display_name": "venv",
   "language": "python",
   "name": "python3"
  },
  "language_info": {
   "codemirror_mode": {
    "name": "ipython",
    "version": 3
   },
   "file_extension": ".py",
   "mimetype": "text/x-python",
   "name": "python",
   "nbconvert_exporter": "python",
   "pygments_lexer": "ipython3",
   "version": "3.10.12"
  }
 },
 "nbformat": 4,
 "nbformat_minor": 2
}
